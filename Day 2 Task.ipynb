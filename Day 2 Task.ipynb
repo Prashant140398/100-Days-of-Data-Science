{
 "cells": [
  {
   "cell_type": "markdown",
   "id": "c6c76c31",
   "metadata": {},
   "source": [
    "## Exercise\n",
    "The target of this exercise is to create a string, an integer, and a floating point number. The string should be named \n",
    "mystring and should contain the word \"hello\". The floating point number should be named myfloat and should contain the \n",
    "number 10.0, and the integer should be named myint and should contain the number 20."
   ]
  },
  {
   "cell_type": "code",
   "execution_count": 15,
   "id": "ab7cc16c",
   "metadata": {},
   "outputs": [
    {
     "name": "stdout",
     "output_type": "stream",
     "text": [
      "String: hello\n",
      "Floating point number: 10.000000\n",
      "Integer: 20.000000\n"
     ]
    }
   ],
   "source": [
    "# creating a string\n",
    "mystring = \"hello\"\n",
    "\n",
    "# creating a floating point number\n",
    "myfloat = 10.0\n",
    "\n",
    "# creating an integer\n",
    "myint = 20\n",
    "\n",
    "if mystring.casefold()=='hello':\n",
    "    print(\"String: %s\" % mystring)\n",
    "else:\n",
    "    print(\"String doesn't match.\")\n",
    "\n",
    "if myfloat==10.0 and type(myfloat)== float:\n",
    "    print(\"Floating point number: %f\" % myfloat)\n",
    "elif myfloat==10.0 and type(myfloat)!= 'float':\n",
    "    print(\"Number: %f\"% myfloat,\"isn't floating point number.\")\n",
    "else:\n",
    "    print(\"Number: %f\"% myfloat,\"isn't floating point number.\")\n",
    "    \n",
    "if myint==20 and type(myint)== int:\n",
    "    print(\"Integer: %f\" % myint)\n",
    "elif myint==10.0 and type(myfloat)!= int:\n",
    "    print(\"Number: %d\"% myint,\"isn't integer.\")\n",
    "else:\n",
    "    print(\"Number: %d\"% myint,\"isn't integer.\")"
   ]
  },
  {
   "cell_type": "code",
   "execution_count": null,
   "id": "c8f4710f",
   "metadata": {},
   "outputs": [],
   "source": []
  }
 ],
 "metadata": {
  "kernelspec": {
   "display_name": "Python 3",
   "language": "python",
   "name": "python3"
  },
  "language_info": {
   "codemirror_mode": {
    "name": "ipython",
    "version": 3
   },
   "file_extension": ".py",
   "mimetype": "text/x-python",
   "name": "python",
   "nbconvert_exporter": "python",
   "pygments_lexer": "ipython3",
   "version": "3.8.8"
  }
 },
 "nbformat": 4,
 "nbformat_minor": 5
}
